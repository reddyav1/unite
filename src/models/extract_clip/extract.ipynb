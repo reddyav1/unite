{
 "cells": [
  {
   "cell_type": "code",
   "execution_count": 3,
   "metadata": {},
   "outputs": [
    {
     "name": "stderr",
     "output_type": "stream",
     "text": [
      "100%|████████████████████████████████████████| 890M/890M [00:07<00:00, 117MiB/s]\n"
     ]
    },
    {
     "ename": "AttributeError",
     "evalue": "'CLIP' object has no attribute 'keys'",
     "output_type": "error",
     "traceback": [
      "\u001b[0;31m---------------------------------------------------------------------------\u001b[0m",
      "\u001b[0;31mAttributeError\u001b[0m                            Traceback (most recent call last)",
      "\u001b[1;32m/cis/home/areddy/unmasked_teacher/src/models/extract_clip/extract.ipynb Cell 1\u001b[0m line \u001b[0;36m1\n\u001b[1;32m      <a href='vscode-notebook-cell://ssh-remote%2Bcis_r32/cis/home/areddy/unmasked_teacher/src/models/extract_clip/extract.ipynb#W0sdnNjb2RlLXJlbW90ZQ%3D%3D?line=5'>6</a>\u001b[0m clip\u001b[39m.\u001b[39mavailable_models()\n\u001b[1;32m      <a href='vscode-notebook-cell://ssh-remote%2Bcis_r32/cis/home/areddy/unmasked_teacher/src/models/extract_clip/extract.ipynb#W0sdnNjb2RlLXJlbW90ZQ%3D%3D?line=7'>8</a>\u001b[0m model, _ \u001b[39m=\u001b[39m clip\u001b[39m.\u001b[39mload(\u001b[39m\"\u001b[39m\u001b[39mViT-L/14\u001b[39m\u001b[39m\"\u001b[39m, device\u001b[39m=\u001b[39m\u001b[39m'\u001b[39m\u001b[39mcpu\u001b[39m\u001b[39m'\u001b[39m)\n\u001b[0;32m---> <a href='vscode-notebook-cell://ssh-remote%2Bcis_r32/cis/home/areddy/unmasked_teacher/src/models/extract_clip/extract.ipynb#W0sdnNjb2RlLXJlbW90ZQ%3D%3D?line=9'>10</a>\u001b[0m \u001b[39mprint\u001b[39m(model\u001b[39m.\u001b[39;49mkeys())\n",
      "File \u001b[0;32m~/miniconda3/envs/slowfast/lib/python3.9/site-packages/torch/nn/modules/module.py:1265\u001b[0m, in \u001b[0;36mModule.__getattr__\u001b[0;34m(self, name)\u001b[0m\n\u001b[1;32m   1263\u001b[0m     \u001b[39mif\u001b[39;00m name \u001b[39min\u001b[39;00m modules:\n\u001b[1;32m   1264\u001b[0m         \u001b[39mreturn\u001b[39;00m modules[name]\n\u001b[0;32m-> 1265\u001b[0m \u001b[39mraise\u001b[39;00m \u001b[39mAttributeError\u001b[39;00m(\u001b[39m\"\u001b[39m\u001b[39m'\u001b[39m\u001b[39m{}\u001b[39;00m\u001b[39m'\u001b[39m\u001b[39m object has no attribute \u001b[39m\u001b[39m'\u001b[39m\u001b[39m{}\u001b[39;00m\u001b[39m'\u001b[39m\u001b[39m\"\u001b[39m\u001b[39m.\u001b[39mformat(\n\u001b[1;32m   1266\u001b[0m     \u001b[39mtype\u001b[39m(\u001b[39mself\u001b[39m)\u001b[39m.\u001b[39m\u001b[39m__name__\u001b[39m, name))\n",
      "\u001b[0;31mAttributeError\u001b[0m: 'CLIP' object has no attribute 'keys'"
     ]
    }
   ],
   "source": [
    "import clip.clip as clip\n",
    "import os\n",
    "import torch\n",
    "from collections import OrderedDict\n",
    "\n",
    "clip.available_models()\n",
    "\n",
    "model, _ = clip.load(\"ViT-L/14\", device='cpu')\n",
    "\n",
    "print(model.state_dict().keys())"
   ]
  },
  {
   "cell_type": "code",
   "execution_count": 10,
   "metadata": {},
   "outputs": [],
   "source": [
    "path = 'your_model_path/clip_visual_encoder'"
   ]
  },
  {
   "cell_type": "code",
   "execution_count": 14,
   "metadata": {},
   "outputs": [],
   "source": [
    "model, _ = clip.load(\"ViT-B/16\", device='cpu')\n",
    "new_state_dict = OrderedDict()\n",
    "for k, v in model.state_dict().items():\n",
    "    if 'visual.' in k:\n",
    "        new_state_dict[k[7:]] = v\n",
    "torch.save(new_state_dict, os.path.join(path, 'vit_b16.pth'))"
   ]
  },
  {
   "cell_type": "code",
   "execution_count": 15,
   "metadata": {},
   "outputs": [],
   "source": [
    "model, _ = clip.load(\"ViT-L/14\", device='cpu')\n",
    "new_state_dict = OrderedDict()\n",
    "for k, v in model.state_dict().items():\n",
    "    if 'visual.' in k:\n",
    "        new_state_dict[k[7:]] = v\n",
    "torch.save(new_state_dict, os.path.join(path, 'vit_l14.pth'))"
   ]
  },
  {
   "cell_type": "code",
   "execution_count": null,
   "metadata": {},
   "outputs": [],
   "source": [
    "model, _ = clip.load(\"ViT-L/14@336px\", device='cpu')\n",
    "new_state_dict = OrderedDict()\n",
    "for k, v in model.state_dict().items():\n",
    "    if 'visual.' in k:\n",
    "        new_state_dict[k[7:]] = v\n",
    "torch.save(new_state_dict, os.path.join(path, 'vit_l14_336.pth'))"
   ]
  },
  {
   "cell_type": "code",
   "execution_count": null,
   "metadata": {},
   "outputs": [],
   "source": []
  }
 ],
 "metadata": {
  "kernelspec": {
   "display_name": "Python 3.7.13 ('torch1.9')",
   "language": "python",
   "name": "python3"
  },
  "language_info": {
   "codemirror_mode": {
    "name": "ipython",
    "version": 3
   },
   "file_extension": ".py",
   "mimetype": "text/x-python",
   "name": "python",
   "nbconvert_exporter": "python",
   "pygments_lexer": "ipython3",
   "version": "3.9.13"
  },
  "orig_nbformat": 4,
  "vscode": {
   "interpreter": {
    "hash": "c30e0be9d1dabfc31a056b9daab5ce1d15284c0e9e5af7f56f8931344ec84c24"
   }
  }
 },
 "nbformat": 4,
 "nbformat_minor": 2
}
